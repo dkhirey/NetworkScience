{
 "cells": [
  {
   "cell_type": "markdown",
   "metadata": {},
   "source": [
    "# Assignment\n",
    "\n",
    "For this assignment you will calculate and plot the distribution of the path lengths of a graph. First we will generate a random graph which we will use for the assignment, using a seed=42 for the random number generator:"
   ]
  },
  {
   "cell_type": "code",
   "execution_count": 1,
   "metadata": {
    "ExecuteTime": {
     "end_time": "2019-01-25T15:05:45.510421Z",
     "start_time": "2019-01-25T15:05:33.470541Z"
    }
   },
   "outputs": [
    {
     "name": "stdout",
     "output_type": "stream",
     "text": [
      "Name: \n",
      "Type: Graph\n",
      "Number of nodes: 1200\n",
      "Number of edges: 5769\n",
      "Average degree:   9.6150\n"
     ]
    }
   ],
   "source": [
    "import networkx as nx\n",
    "\n",
    "random_graph = nx.erdos_renyi_graph(1200, 0.008, seed=42)\n",
    "print(nx.info(random_graph))"
   ]
  },
  {
   "cell_type": "markdown",
   "metadata": {},
   "source": [
    "## 1. Finding path lengths\n",
    "\n",
    "You can use Networkx's [shortest path length function](https://networkx.github.io/documentation/stable/reference/algorithms/generated/networkx.algorithms.shortest_paths.generic.shortest_path.html) to get the shortest path between nodes in a graph. (You can also challenge yourself more by creating your own shortest path function). Try out some of the examples in the documentation using the random graph we made above until you get familiar with how it works and what type of output it gives.\n",
    "\n",
    "Next write a function that will return a **sorted list** of the shortest path lengths between all pairs of nodes (make sure each pair is only counted once). It should sort by the path length, not the nodes. This function should take a single argument, `G`, a networkx graph."
   ]
  },
  {
   "cell_type": "code",
   "execution_count": 53,
   "metadata": {
    "ExecuteTime": {
     "end_time": "2019-01-25T15:52:35.095645Z",
     "start_time": "2019-01-25T15:52:35.088752Z"
    }
   },
   "outputs": [],
   "source": [
    "def sorted_shortest_path_lengths(G):\n",
    "    path_lengths=[]\n",
    "    for source in G.nodes:\n",
    "        for target in range(source+1,len(G.nodes)): # making sure each pair counted only once\n",
    "            sp = nx.shortest_path_length(G,source,target)\n",
    "            path_lengths.append(sp)\n",
    "            #print (source,target,sp)\n",
    "    print(len(path_lengths))\n",
    "    return path_lengths"
   ]
  },
  {
   "cell_type": "markdown",
   "metadata": {},
   "source": [
    "Apply your function to the ```random_graph``` and assign the list of shortest path lengths to a variable:"
   ]
  },
  {
   "cell_type": "code",
   "execution_count": 74,
   "metadata": {
    "ExecuteTime": {
     "end_time": "2019-01-25T16:04:22.114061Z",
     "start_time": "2019-01-25T16:03:41.144056Z"
    }
   },
   "outputs": [
    {
     "name": "stdout",
     "output_type": "stream",
     "text": [
      "719400\n",
      "719400\n"
     ]
    }
   ],
   "source": [
    "path_lengths = sorted_shortest_path_lengths(random_graph)\n",
    "path_lengths.sort() # sorting list by path lengths\n",
    "print(len(path_lengths))"
   ]
  },
  {
   "cell_type": "markdown",
   "metadata": {},
   "source": [
    "## 2. Visualizing the results\n",
    "Now that you have a list of the shortest paths for the graph, make a histogram for it. This can be done with [matplotlibs histogram function](http://matplotlib.org/api/pyplot_api.html?highlight=hist#matplotlib.pyplot.hist)"
   ]
  },
  {
   "cell_type": "code",
   "execution_count": 43,
   "metadata": {
    "ExecuteTime": {
     "end_time": "2019-01-25T15:48:35.451870Z",
     "start_time": "2019-01-25T15:48:32.465333Z"
    }
   },
   "outputs": [],
   "source": [
    "%matplotlib inline\n",
    "import matplotlib.pyplot as plt"
   ]
  },
  {
   "cell_type": "markdown",
   "metadata": {},
   "source": [
    "This function is fairly useful and lets us quickly visualize a distribution. For instance, if we create a small set of normally distributed random numbers we could use the histogram function to plot the bell curve:"
   ]
  },
  {
   "cell_type": "code",
   "execution_count": 44,
   "metadata": {
    "ExecuteTime": {
     "end_time": "2019-01-25T15:48:49.689566Z",
     "start_time": "2019-01-25T15:48:49.274113Z"
    }
   },
   "outputs": [
    {
     "data": {
      "image/png": "[encoded data removed]",
      "text/plain": [
       "<Figure size 432x288 with 1 Axes>"
      ]
     },
     "metadata": {},
     "output_type": "display_data"
    }
   ],
   "source": [
    "import numpy as np\n",
    "# Create dummy data\n",
    "rvs = np.random.normal(size=1000)\n",
    "# plot histogram\n",
    "pdf, bins, patch = plt.hist(rvs, bins=30)"
   ]
  },
  {
   "cell_type": "markdown",
   "metadata": {},
   "source": [
    "You may need to adjust the number of bins so that it is appropriate for the amount of data points you have.\n",
    "\n",
    "Use the histogram function to make a plot of the results from your shortest paths length function:"
   ]
  },
  {
   "cell_type": "code",
   "execution_count": 75,
   "metadata": {
    "ExecuteTime": {
     "end_time": "2019-01-25T16:04:29.737523Z",
     "start_time": "2019-01-25T16:04:29.416675Z"
    }
   },
   "outputs": [
    {
     "data": {
      "text/plain": [
       "(array([  5769.,  52505., 323753., 330069.,   7304.]),\n",
       " array([1., 2., 3., 4., 5., 6.]),\n",
       " <a list of 5 Patch objects>)"
      ]
     },
     "execution_count": 75,
     "metadata": {},
     "output_type": "execute_result"
    },
    {
     "data": {
      "image/png": "[encoded data removed]",
      "text/plain": [
       "<Figure size 432x288 with 1 Axes>"
      ]
     },
     "metadata": {},
     "output_type": "display_data"
    }
   ],
   "source": [
    "plt.hist(path_lengths,bins=5)"
   ]
  },
  {
   "cell_type": "markdown",
   "metadata": {},
   "source": [
    "### Name your notebook: shortest_lastname_firstname.ipynb and submit to Canvas"
   ]
  }
 ],
 "metadata": {
  "anaconda-cloud": {},
  "kernelspec": {
   "display_name": "Python 3",
   "language": "python",
   "name": "python3"
  },
  "language_info": {
   "codemirror_mode": {
    "name": "ipython",
    "version": 3
   },
   "file_extension": ".py",
   "mimetype": "text/x-python",
   "name": "python",
   "nbconvert_exporter": "python",
   "pygments_lexer": "ipython3",
   "version": "3.6.5"
  },
  "latex_envs": {
   "LaTeX_envs_menu_present": true,
   "autoclose": true,
   "autocomplete": true,
   "bibliofile": "biblio.bib",
   "cite_by": "apalike",
   "current_citInitial": 1,
   "eqLabelWithNumbers": true,
   "eqNumInitial": 1,
   "hotkeys": {
    "equation": "Ctrl-E",
    "itemize": "Ctrl-I"
   },
   "labels_anchors": false,
   "latex_user_defs": false,
   "report_style_numbering": false,
   "user_envs_cfg": true
  },
  "toc": {
   "base_numbering": 1,
   "nav_menu": {},
   "number_sections": true,
   "sideBar": true,
   "skip_h1_title": false,
   "title_cell": "Table of Contents",
   "title_sidebar": "Contents",
   "toc_cell": false,
   "toc_position": {},
   "toc_section_display": true,
   "toc_window_display": false
  },
  "varInspector": {
   "cols": {
    "lenName": 16,
    "lenType": 16,
    "lenVar": 40
   },
   "kernels_config": {
    "python": {
     "delete_cmd_postfix": "",
     "delete_cmd_prefix": "del ",
     "library": "var_list.py",
     "varRefreshCmd": "print(var_dic_list())"
    },
    "r": {
     "delete_cmd_postfix": ") ",
     "delete_cmd_prefix": "rm(",
     "library": "var_list.r",
     "varRefreshCmd": "cat(var_dic_list()) "
    }
   },
   "types_to_exclude": [
    "module",
    "function",
    "builtin_function_or_method",
    "instance",
    "_Feature"
   ],
   "window_display": false
  }
 },
 "nbformat": 4,
 "nbformat_minor": 1
}
