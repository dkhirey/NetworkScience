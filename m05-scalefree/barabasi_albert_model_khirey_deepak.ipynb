{
 "cells": [
  {
   "cell_type": "markdown",
   "metadata": {},
   "source": [
    "# Assignment: Scale-free networks\n",
    "\n",
    "## 1. Implement BA algorithm\n",
    "For this assignment you will be implementing the BA algorithm from the reading (see [Barabasi Ch 5.3](http://barabasi.com/networksciencebook/)). Create a function that takes `n` the number of nodes for the graph, and `m_o` the initial number of nodes, as arguments and returns a networkx graph with a scale-free degree distribution.\n",
    "\n",
    "The first step is figuring out how to do \"preferential attachment\" based on the degree of existing nodes. A brute-force way to do this is creating a huge list with duplicated items. Say, node 1's degree is 6, node 2's degree is 3, and node 3's degree is 2. (This is not a 'graphical' sequence. But for the sake of simplicity let's just assume that.) Then, we can create the following list to *preferentially sample* nodes from the network. "
   ]
  },
  {
   "cell_type": "code",
   "execution_count": 1,
   "metadata": {
    "ExecuteTime": {
     "end_time": "2019-02-11T04:48:07.737093Z",
     "start_time": "2019-02-11T04:48:07.734053Z"
    }
   },
   "outputs": [],
   "source": [
    "alist = [1,1,1,1,1,1,2,2,2,3,3]"
   ]
  },
  {
   "cell_type": "markdown",
   "metadata": {},
   "source": [
    "1 is repeated 6 times, 2 is repeated 3 times, and so on. Now if we randomly sample from this list, we will be three times more like to sample node 1 than node 3!"
   ]
  },
  {
   "cell_type": "code",
   "execution_count": 2,
   "metadata": {
    "ExecuteTime": {
     "end_time": "2019-02-11T04:48:07.768177Z",
     "start_time": "2019-02-11T04:48:07.758116Z"
    }
   },
   "outputs": [
    {
     "data": {
      "text/plain": [
       "[1]"
      ]
     },
     "execution_count": 2,
     "metadata": {},
     "output_type": "execute_result"
    }
   ],
   "source": [
    "import random\n",
    "\n",
    "random.sample(alist, 1)"
   ]
  },
  {
   "cell_type": "markdown",
   "metadata": {},
   "source": [
    "So, if you can maintain this list for your network, you can implement preferential attachment. Simply update this list whenever you add an edge! \n",
    "\n",
    "An alternative way is using `numpy`'s sampling method. If you run the following cell, the documentation for the [`np.random.choice`](http://docs.scipy.org/doc/numpy/reference/generated/numpy.random.choice.html) function will appear at the bottom. "
   ]
  },
  {
   "cell_type": "code",
   "execution_count": 3,
   "metadata": {
    "ExecuteTime": {
     "end_time": "2019-02-11T04:48:08.473018Z",
     "start_time": "2019-02-11T04:48:07.783185Z"
    }
   },
   "outputs": [],
   "source": [
    "import numpy as np\n",
    "\n",
    "np.random.choice?"
   ]
  },
  {
   "cell_type": "markdown",
   "metadata": {},
   "source": [
    "It accepts `p` parameter and you can specifies the probability of each item in the list! So instead of creating"
   ]
  },
  {
   "cell_type": "code",
   "execution_count": 4,
   "metadata": {
    "ExecuteTime": {
     "end_time": "2019-02-11T04:48:08.478033Z",
     "start_time": "2019-02-11T04:48:08.476057Z"
    }
   },
   "outputs": [],
   "source": [
    "alist = [1,1,1,1,1,1,2,2,2,3,3]"
   ]
  },
  {
   "cell_type": "markdown",
   "metadata": {},
   "source": [
    "You can do"
   ]
  },
  {
   "cell_type": "code",
   "execution_count": 5,
   "metadata": {
    "ExecuteTime": {
     "end_time": "2019-02-11T04:48:08.500090Z",
     "start_time": "2019-02-11T04:48:08.480037Z"
    },
    "scrolled": true
   },
   "outputs": [
    {
     "data": {
      "text/plain": [
       "[0.5454545454545454, 0.2727272727272727, 0.18181818181818182]"
      ]
     },
     "execution_count": 5,
     "metadata": {},
     "output_type": "execute_result"
    }
   ],
   "source": [
    "nodes = [1,2,3]\n",
    "degrees = [6,3,2]\n",
    "sum_degrees = sum(degrees)\n",
    "node_probs = [x*1/sum_degrees for x in degrees] \n",
    "node_probs"
   ]
  },
  {
   "cell_type": "code",
   "execution_count": 6,
   "metadata": {
    "ExecuteTime": {
     "end_time": "2019-02-11T04:48:08.519151Z",
     "start_time": "2019-02-11T04:48:08.502097Z"
    }
   },
   "outputs": [
    {
     "data": {
      "text/plain": [
       "1"
      ]
     },
     "execution_count": 6,
     "metadata": {},
     "output_type": "execute_result"
    }
   ],
   "source": [
    "np.random.choice(nodes, p=node_probs)"
   ]
  },
  {
   "cell_type": "markdown",
   "metadata": {},
   "source": [
    "or sample two nodes from the list. "
   ]
  },
  {
   "cell_type": "code",
   "execution_count": 7,
   "metadata": {
    "ExecuteTime": {
     "end_time": "2019-02-11T04:48:08.537190Z",
     "start_time": "2019-02-11T04:48:08.522150Z"
    }
   },
   "outputs": [
    {
     "data": {
      "text/plain": [
       "array([2, 1])"
      ]
     },
     "execution_count": 7,
     "metadata": {},
     "output_type": "execute_result"
    }
   ],
   "source": [
    "np.random.choice(nodes, 2, replace=False, p=node_probs)"
   ]
  },
  {
   "cell_type": "markdown",
   "metadata": {},
   "source": [
    "Now you're ready to implement the BA algorithm! If it's difficult, start with m=1. This is much simpler. Then generalizing to m!=1 is not that complicated. "
   ]
  },
  {
   "cell_type": "code",
   "execution_count": 8,
   "metadata": {
    "ExecuteTime": {
     "end_time": "2019-02-11T04:48:14.270938Z",
     "start_time": "2019-02-11T04:48:08.540218Z"
    }
   },
   "outputs": [],
   "source": [
    "import networkx as nx\n",
    "import numpy as np\n",
    "import matplotlib.pyplot as plt\n",
    "%matplotlib inline"
   ]
  },
  {
   "cell_type": "code",
   "execution_count": 9,
   "metadata": {
    "ExecuteTime": {
     "end_time": "2019-02-11T04:48:14.277958Z",
     "start_time": "2019-02-11T04:48:14.272944Z"
    }
   },
   "outputs": [],
   "source": [
    "def barabasi_albert_graph(n, m_o, m=1):\n",
    "    # Initial network of m_o nodes\n",
    "    G = nx.empty_graph(m_o)\n",
    "    \n",
    "    # while network has less than n nodes, \n",
    "    # 1. preferentially sample m nodes from the network,\n",
    "    # 2. create a new node, \n",
    "    # 3. and connect the new node to the m selected nodes. \n",
    "    while (len(G.nodes()) < n ):\n",
    "        #node_probs=0\n",
    "        nodes = G.nodes()\n",
    "        #print(nodes)\n",
    "        #print(G.degree())\n",
    "        degrees = list(dict(G.degree()).values())\n",
    "        #print(degrees)\n",
    "        sum_degrees = sum(degrees)\n",
    "        #print(sum_degrees)\n",
    "        if (sum_degrees != 0):\n",
    "            node_probs = [x*1/sum_degrees for x in degrees] \n",
    "        else:\n",
    "            node_probs = [1 / len(G.nodes()) for x in degrees]  ## intially all nodes have same probability\n",
    "        #print(node_probs)\n",
    "        sample = np.random.choice(G.nodes(), m, replace=False, p=node_probs)\n",
    "        #print(sample)\n",
    "        new_node = len(G.nodes())+1\n",
    "        G.add_node(new_node)\n",
    "        [G.add_edge(new_node,v) for v in sample ]\n",
    "        #print(G.edges)\n",
    "    plt.figure()\n",
    "    nx.draw(G)\n",
    "    plt.show()\n",
    "    pass\n",
    "    return G"
   ]
  },
  {
   "cell_type": "markdown",
   "metadata": {},
   "source": [
    "## 2. BA graph analysis\n",
    "Test your algorithm by creating a graph with `N = 1200` and `m_o = 7`. Calculate (and print) the average shortest path length of the graph:"
   ]
  },
  {
   "cell_type": "code",
   "execution_count": 10,
   "metadata": {
    "ExecuteTime": {
     "end_time": "2019-02-11T04:48:21.449029Z",
     "start_time": "2019-02-11T04:48:14.280967Z"
    }
   },
   "outputs": [
    {
     "data": {
      "image/png": "[encoded data removed]",
      "text/plain": [
       "<Figure size 432x288 with 1 Axes>"
      ]
     },
     "metadata": {},
     "output_type": "display_data"
    },
    {
     "name": "stdout",
     "output_type": "stream",
     "text": [
      "Name: \n",
      "Type: Graph\n",
      "Number of nodes: 1200\n",
      "Number of edges: 8351\n",
      "Average degree:  13.9183\n"
     ]
    }
   ],
   "source": [
    "# Your code here\n",
    "G = barabasi_albert_graph(n=1200, m_o=7, m=7)\n",
    "print(nx.info(G))"
   ]
  },
  {
   "cell_type": "code",
   "execution_count": 11,
   "metadata": {
    "ExecuteTime": {
     "end_time": "2019-02-11T04:48:29.110430Z",
     "start_time": "2019-02-11T04:48:21.452037Z"
    }
   },
   "outputs": [
    {
     "data": {
      "text/plain": [
       "2.7791326105087575"
      ]
     },
     "execution_count": 11,
     "metadata": {},
     "output_type": "execute_result"
    }
   ],
   "source": [
    "nx.average_shortest_path_length(G)"
   ]
  },
  {
   "cell_type": "markdown",
   "metadata": {},
   "source": [
    "Calculate (and print) the average clustering coefficient of the graph:"
   ]
  },
  {
   "cell_type": "code",
   "execution_count": 12,
   "metadata": {
    "ExecuteTime": {
     "end_time": "2019-02-11T04:48:29.197636Z",
     "start_time": "2019-02-11T04:48:29.112409Z"
    }
   },
   "outputs": [
    {
     "data": {
      "text/plain": [
       "0.0437546103555556"
      ]
     },
     "execution_count": 12,
     "metadata": {},
     "output_type": "execute_result"
    }
   ],
   "source": [
    "# Your code here\n",
    "nx.average_clustering(G)"
   ]
  },
  {
   "cell_type": "markdown",
   "metadata": {},
   "source": [
    "The [cumulative distribution function (CDF) and complementary cumulative distribution function (CCDF)](https://en.wikipedia.org/wiki/Cumulative_distribution_function) are among the most direct ways to identify a power-law-like distribution. Plot the CCDF of the graph's degree distribution. (Hint: you can look at [this post](https://stackoverflow.com/questions/24575869/read-file-and-plot-cdf-in-python). CCDF is just the reverse of CDF.)"
   ]
  },
  {
   "cell_type": "code",
   "execution_count": 13,
   "metadata": {
    "ExecuteTime": {
     "end_time": "2019-02-11T04:48:29.202651Z",
     "start_time": "2019-02-11T04:48:29.199644Z"
    }
   },
   "outputs": [],
   "source": [
    "def ccdf(data):\n",
    "    ## Function referrence - https://stackoverflow.com/questions/24575869/read-file-and-plot-cdf-in-python\n",
    "    data_size=len(data)\n",
    "\n",
    "    # Set bins edges\n",
    "    data_set=sorted(set(data))\n",
    "    bins=np.append(data_set, data_set[-1]+1)\n",
    "\n",
    "    # Use the histogram function to bin the data\n",
    "    counts, bin_edges = np.histogram(data, bins=bins, density=False)\n",
    "\n",
    "    counts=counts.astype(float)/data_size\n",
    "\n",
    "    # Find the cdf\n",
    "    cdf = np.cumsum(counts)\n",
    "    ccdf = 1 - cdf\n",
    "\n",
    "    # Plot the cdf\n",
    "    plt.plot(bin_edges[0:-1], ccdf,linestyle='--', marker=\"o\", color='b')\n",
    "    plt.ylim((0,1))\n",
    "    plt.ylabel(\"CCDF\")\n",
    "    plt.grid(True)\n",
    "\n",
    "    plt.show()"
   ]
  },
  {
   "cell_type": "code",
   "execution_count": 14,
   "metadata": {
    "ExecuteTime": {
     "end_time": "2019-02-11T04:48:29.299909Z",
     "start_time": "2019-02-11T04:48:29.204656Z"
    }
   },
   "outputs": [
    {
     "data": {
      "image/png": "[encoded data removed]",
      "text/plain": [
       "<Figure size 432x288 with 1 Axes>"
      ]
     },
     "metadata": {},
     "output_type": "display_data"
    }
   ],
   "source": [
    "import matplotlib.pyplot as plt\n",
    "%matplotlib inline\n",
    "\n",
    "# Your code here\n",
    "degree_sequence = sorted([d for n, d in G.degree()], reverse=True) \n",
    "ccdf(degree_sequence)"
   ]
  },
  {
   "cell_type": "markdown",
   "metadata": {},
   "source": [
    "## 3. BA and ER comparison\n",
    "Now lets compare the scale-free and random graphs. Create a random graph with the same number of nodes and about the same number of edges, then calculate the average shortest path length of that graph:"
   ]
  },
  {
   "cell_type": "code",
   "execution_count": 15,
   "metadata": {
    "ExecuteTime": {
     "end_time": "2019-02-11T04:48:35.869413Z",
     "start_time": "2019-02-11T04:48:29.301915Z"
    }
   },
   "outputs": [
    {
     "name": "stdout",
     "output_type": "stream",
     "text": [
      "Name: \n",
      "Type: Graph\n",
      "Number of nodes: 1200\n",
      "Number of edges: 5769\n",
      "Average degree:   9.6150\n"
     ]
    },
    {
     "data": {
      "image/png": "[encoded data removed]",
      "text/plain": [
       "<Figure size 432x288 with 1 Axes>"
      ]
     },
     "metadata": {},
     "output_type": "display_data"
    }
   ],
   "source": [
    "# Your code here\n",
    "random_graph = nx.erdos_renyi_graph(1200, 0.008, seed=42)\n",
    "nx.draw(random_graph)\n",
    "print(nx.info(random_graph))"
   ]
  },
  {
   "cell_type": "code",
   "execution_count": 16,
   "metadata": {
    "ExecuteTime": {
     "end_time": "2019-02-11T04:48:41.110321Z",
     "start_time": "2019-02-11T04:48:35.871390Z"
    }
   },
   "outputs": [
    {
     "data": {
      "text/plain": [
       "3.390095913261051"
      ]
     },
     "execution_count": 16,
     "metadata": {},
     "output_type": "execute_result"
    }
   ],
   "source": [
    "nx.average_shortest_path_length(random_graph)"
   ]
  },
  {
   "cell_type": "markdown",
   "metadata": {},
   "source": [
    "Calculate (and print) the average clustering coefficient of the graph:"
   ]
  },
  {
   "cell_type": "code",
   "execution_count": 17,
   "metadata": {
    "ExecuteTime": {
     "end_time": "2019-02-11T04:48:41.157523Z",
     "start_time": "2019-02-11T04:48:41.113327Z"
    }
   },
   "outputs": [
    {
     "data": {
      "text/plain": [
       "0.006847474456801079"
      ]
     },
     "execution_count": 17,
     "metadata": {},
     "output_type": "execute_result"
    }
   ],
   "source": [
    "# Your code here\n",
    "nx.average_clustering(random_graph)"
   ]
  },
  {
   "cell_type": "markdown",
   "metadata": {},
   "source": [
    "Now plot the CCDF of the degree distribution of the random graph:"
   ]
  },
  {
   "cell_type": "code",
   "execution_count": 18,
   "metadata": {
    "ExecuteTime": {
     "end_time": "2019-02-11T04:48:41.239719Z",
     "start_time": "2019-02-11T04:48:41.160516Z"
    }
   },
   "outputs": [
    {
     "data": {
      "image/png": "[encoded data removed]",
      "text/plain": [
       "<Figure size 432x288 with 1 Axes>"
      ]
     },
     "metadata": {},
     "output_type": "display_data"
    }
   ],
   "source": [
    "# Your code here\n",
    "degree_sequence_random = sorted([d for n, d in random_graph.degree()], reverse=True) \n",
    "ccdf(degree_sequence_random)"
   ]
  },
  {
   "cell_type": "markdown",
   "metadata": {},
   "source": [
    "How do the average shortest path lengths, average clustering coefficients, and degree distributions between the graphs compare?"
   ]
  },
  {
   "cell_type": "markdown",
   "metadata": {},
   "source": [
    "- **Average shortest path length**\n",
    "    It is very similar in both the graphs. 2.79 for BA graph and 3.39 for random graph\n",
    "- **Clustering coefficient**\n",
    "    There is significanct differenr here. It is 0.04 for BA graph and 0.006 for random graph. This shows that BA graph is much more dnese than random graph. It also suggests presence of hubs in BA graph.\n",
    "- **Degree distribution**\n",
    "    We can clearly see power-law in degree distribution of BA graph. On the other hand, random graph has much more even degree distribution. This is also indicator that average degree of random graph is less and there are no hubs present. "
   ]
  },
  {
   "cell_type": "markdown",
   "metadata": {},
   "source": [
    "## 4. Preferential attachment without using the degree\n",
    "\n",
    "As explained in a video, it is possible to achieve the linear preferential attachment without calculating the degree by using the principle that we learned in the friendship paradox. Implement this version and see whether you can get a power-law degree distribution.  \n",
    "\n",
    "Helpful page:\n",
    "- https://networkx.github.io/documentation/stable/reference/classes/generated/networkx.Graph.edges.html"
   ]
  },
  {
   "cell_type": "code",
   "execution_count": 19,
   "metadata": {
    "ExecuteTime": {
     "end_time": "2019-02-11T04:48:41.247749Z",
     "start_time": "2019-02-11T04:48:41.242727Z"
    }
   },
   "outputs": [],
   "source": [
    "# your code here\n",
    "\n",
    "def alternate_barabasi_albert_graph(n, m_o,m=1):\n",
    "    # Initial network of m_o nodes\n",
    "    G = nx.empty_graph(m_o)\n",
    "    \n",
    "    # while network has less than n nodes, \n",
    "    # 1. select random edge\n",
    "    # 2. create a new node, \n",
    "    # 3. and connect the new node to nodes of selected edge \n",
    "    while (len(G.nodes()) < n ):\n",
    "        nodes = G.nodes()       \n",
    "        new_node = len(G.nodes())+1\n",
    "        G.add_node(new_node)\n",
    "        if (len(G.edges())==0):\n",
    "            [G.add_edge(new_node,v) for v in nodes ] # initial connect if nodes are isolated\n",
    "        else :\n",
    "            # follow nodes of selected edge and connect with new node\n",
    "            # this will follow friendship paradox and also get clustering effect\n",
    "            edges = list(G.edges())\n",
    "            sample = random.choice(list(G.edges()))\n",
    "            G.add_edge(new_node,sample[0])\n",
    "            G.add_edge(new_node,sample[1])\n",
    "    plt.figure()\n",
    "    nx.draw(G)\n",
    "    plt.show()\n",
    "    pass\n",
    "    return G"
   ]
  },
  {
   "cell_type": "code",
   "execution_count": 20,
   "metadata": {
    "ExecuteTime": {
     "end_time": "2019-02-11T04:48:48.340605Z",
     "start_time": "2019-02-11T04:48:41.249747Z"
    }
   },
   "outputs": [
    {
     "data": {
      "image/png": "[encoded data removed]",
      "text/plain": [
       "<Figure size 432x288 with 1 Axes>"
      ]
     },
     "metadata": {},
     "output_type": "display_data"
    },
    {
     "name": "stdout",
     "output_type": "stream",
     "text": [
      "Name: \n",
      "Type: Graph\n",
      "Number of nodes: 1200\n",
      "Number of edges: 2389\n",
      "Average degree:   3.9817\n"
     ]
    }
   ],
   "source": [
    "GA = alternate_barabasi_albert_graph(n=1200, m_o=7)\n",
    "print(nx.info(GA))"
   ]
  },
  {
   "cell_type": "code",
   "execution_count": 21,
   "metadata": {
    "ExecuteTime": {
     "end_time": "2019-02-11T04:48:48.430844Z",
     "start_time": "2019-02-11T04:48:48.344617Z"
    }
   },
   "outputs": [
    {
     "data": {
      "image/png": "[encoded data removed]",
      "text/plain": [
       "<Figure size 432x288 with 1 Axes>"
      ]
     },
     "metadata": {},
     "output_type": "display_data"
    }
   ],
   "source": [
    "degree_sequence = sorted([d for n, d in GA.degree()], reverse=True) \n",
    "ccdf(degree_sequence)"
   ]
  },
  {
   "cell_type": "markdown",
   "metadata": {},
   "source": [
    "Above graph shows alternative approach to build BA graph where we don't need to calculate probabilities of all the nodes. We can select random edge and connect to its nodes. We still get power-law degree distribution and a scale free network"
   ]
  }
 ],
 "metadata": {
  "kernelspec": {
   "display_name": "Python 3",
   "language": "python",
   "name": "python3"
  },
  "language_info": {
   "codemirror_mode": {
    "name": "ipython",
    "version": 3
   },
   "file_extension": ".py",
   "mimetype": "text/x-python",
   "name": "python",
   "nbconvert_exporter": "python",
   "pygments_lexer": "ipython3",
   "version": "3.6.5"
  },
  "latex_envs": {
   "LaTeX_envs_menu_present": true,
   "autoclose": true,
   "autocomplete": true,
   "bibliofile": "biblio.bib",
   "cite_by": "apalike",
   "current_citInitial": 1,
   "eqLabelWithNumbers": true,
   "eqNumInitial": 1,
   "hotkeys": {
    "equation": "Ctrl-E",
    "itemize": "Ctrl-I"
   },
   "labels_anchors": false,
   "latex_user_defs": false,
   "report_style_numbering": false,
   "user_envs_cfg": true
  },
  "toc": {
   "base_numbering": 1,
   "nav_menu": {},
   "number_sections": true,
   "sideBar": true,
   "skip_h1_title": false,
   "title_cell": "Table of Contents",
   "title_sidebar": "Contents",
   "toc_cell": false,
   "toc_position": {},
   "toc_section_display": true,
   "toc_window_display": false
  },
  "varInspector": {
   "cols": {
    "lenName": 16,
    "lenType": 16,
    "lenVar": 40
   },
   "kernels_config": {
    "python": {
     "delete_cmd_postfix": "",
     "delete_cmd_prefix": "del ",
     "library": "var_list.py",
     "varRefreshCmd": "print(var_dic_list())"
    },
    "r": {
     "delete_cmd_postfix": ") ",
     "delete_cmd_prefix": "rm(",
     "library": "var_list.r",
     "varRefreshCmd": "cat(var_dic_list()) "
    }
   },
   "types_to_exclude": [
    "module",
    "function",
    "builtin_function_or_method",
    "instance",
    "_Feature"
   ],
   "window_display": false
  }
 },
 "nbformat": 4,
 "nbformat_minor": 1
}
