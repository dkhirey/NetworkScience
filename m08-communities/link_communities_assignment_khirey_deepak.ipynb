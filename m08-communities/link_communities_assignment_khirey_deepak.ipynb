{
 "cells": [
  {
   "cell_type": "markdown",
   "metadata": {},
   "source": [
    "# Link communities\n",
    "For this assignment we will take a look at link communities and how they differ from node communities. In order to do this we will use the algorithm discussed in the reading (\"Link communities reveal multiscale complexity in networks\") and link community video from canvas.\n",
    "\n",
    "A small python module has been prepared that will allow you to use the link community algorithm with Anaconda and Python 3.5. To install the module you want to open a terminal or shell and use:\n",
    "\n",
    "```\n",
    "pip install git+https://github.com/Nathaniel-Rodriguez/linkcom.git\n",
    "```\n",
    "\n",
    "This will install the package locally in your Anaconda site-packages directory (the same place where the `conda` command would install new packages). Make sure you have [git](https://git-scm.com/) installed first. If you are using Windows you will need to use the Anaconda command prompt when using pip, so that it adds the package to Anaconda. If you have trouble installing the package you can just unpack the zip file from the [github repository](https://github.com/Nathaniel-Rodriguez/linkcom/tree/master/linkcom) and put the linkcom folder in your working directory.\n",
    "\n",
    "To use the package you can do:"
   ]
  },
  {
   "cell_type": "code",
   "execution_count": 1,
   "metadata": {
    "ExecuteTime": {
     "end_time": "2019-03-04T20:23:41.529702Z",
     "start_time": "2019-03-04T20:23:37.245771Z"
    }
   },
   "outputs": [],
   "source": [
    "import linkcom"
   ]
  },
  {
   "cell_type": "markdown",
   "metadata": {},
   "source": [
    "The code has been adapted so that it will work with networkx graphs. The link communities algorithm requires simple undirected graphs to use. This means there can't be any self-loops or parallel edges. However, you can use weighted graphs."
   ]
  },
  {
   "cell_type": "code",
   "execution_count": 2,
   "metadata": {
    "ExecuteTime": {
     "end_time": "2019-03-04T20:23:41.537677Z",
     "start_time": "2019-03-04T20:23:41.532663Z"
    }
   },
   "outputs": [
    {
     "name": "stdout",
     "output_type": "stream",
     "text": [
      "Graph\n"
     ]
    }
   ],
   "source": [
    "# First lets import networkx\n",
    "import networkx as nx\n",
    "\n",
    "# And generate a new graph\n",
    "my_graph = nx.erdos_renyi_graph(100, 0.1)\n",
    "\n",
    "# We need to make sure this is a graph of type Graph\n",
    "print(type(my_graph).__name__)"
   ]
  },
  {
   "cell_type": "markdown",
   "metadata": {},
   "source": [
    "If the graph you load in isn't of type Graph (it maybe a Multigraph or DiGraph), it is easy to convert it to one:"
   ]
  },
  {
   "cell_type": "code",
   "execution_count": 3,
   "metadata": {
    "ExecuteTime": {
     "end_time": "2019-03-04T20:23:41.557730Z",
     "start_time": "2019-03-04T20:23:41.539681Z"
    }
   },
   "outputs": [],
   "source": [
    "my_graph = nx.Graph(my_graph)"
   ]
  },
  {
   "cell_type": "markdown",
   "metadata": {},
   "source": [
    "## Using linkcom\n",
    "Now lets call the `cluster` method in `linkcom` to cluster the links of the graph. The `cluster` method takes several optional arguments:\n",
    "\n",
    "```\n",
    "linkcom.cluster(nx_graph, threshold=None, is_weighted=False, weight_key='weight', dendro_flag=False, to_file=False, basename=\"clustering\", delimiter='\\t')\n",
    "```\n",
    "\n",
    "`Threshold`: sets the cut-off for the dendrogram.\n",
    "\n",
    "`is_weighted`: can be `True` or `False` depending upon whether the graph has weights or not. Set this to `True` if the graph is weighted.\n",
    "\n",
    "`weight_key`: specifies what attribute the edges have that has weight values. In networkx it is convention that this key be set to `weight`. Most functions in networkx will assume this is the key. This is also the default value for the cluster method.\n",
    "\n",
    "`dendro_flag`: specifies whether to return the dendrogram (only applicable if the graph is unweighted and no threshold is given).\n",
    "\n",
    "`to_file`: specifies whether to write the outputs to file. Several files will be written and given names based on `basename` with elements separated by `delimiter`. \n",
    "\n",
    "These outputs will be written to file:\n",
    "\n",
    "```\n",
    "Three text files with extensions .edge2comm.txt, .comm2edges.txt,\n",
    "and .comm2nodes.txt store the communities.\n",
    "\n",
    "edge2comm, an edge on each line followed by the community\n",
    "id (cid) of the edge's link comm:\n",
    "node_i <delimiter> node_j <delimiter> cid <newline>\n",
    "\n",
    "comm2edges, a list of edges representing one community per line:\n",
    "cid <delimiter> ni,nj <delimiter> nx,ny [...] <newline>\n",
    "\n",
    "comm2nodes, a list of nodes representing one community per line:\n",
    "cid <delimiter> ni <delimiter> nj [...] <newline>\n",
    "\n",
    "The output filename contains the threshold at which the dendrogram\n",
    "was cut, if applicable, or the threshold where the maximum\n",
    "partition density was found, and the value of the partition \n",
    "density.\n",
    "\n",
    "If no threshold was given to cut the dendrogram, a file ending with\n",
    "'_thr_D.txt' is generated, containing the partition density as a\n",
    "function of clustering threshold.\n",
    "\n",
    "If the dendrogram option was given, two files are generated. One with\n",
    "'.cid2edge.txt' records the id of each edge and the other one with\n",
    "'.linkage.txt' stores the linkage structure of the hierarchical \n",
    "clustering. In the linkage file, the edge in the first column is \n",
    "merged with the one in the second at the similarity value in the \n",
    "third column.\n",
    "```\n",
    "\n",
    "The cluster method will return a tuple with different elements:\n",
    "\n",
    "    If no threshold is given, then a tuple is returned with: (dict) dictionary with keys=edges and values=community membership, (float) best similarity, (float) best partition density, (list) partition density list.\n",
    "\n",
    "    If dendro_flag is given (only applicable if no threshold), then a tuple is returned with: (dict) dictionary with keys=edges and values=community membership, (float) best similarity, (float) best partition density, (list) partition density list, (dict) keys=edges and values=community membership for original, (list) dendrogram.\n",
    "\n",
    "    If threshold is given a tuple is returned with: (dict) dictionary with keys=edges and values=community membership, partition density at threshold.\n",
    "\n",
    "You will mostly just be interested in using the dictionary which contains the community assignment data, which is always the first element of the tuple. Lets do a short example:"
   ]
  },
  {
   "cell_type": "code",
   "execution_count": 4,
   "metadata": {
    "ExecuteTime": {
     "end_time": "2019-03-04T20:23:41.613903Z",
     "start_time": "2019-03-04T20:23:41.560738Z"
    }
   },
   "outputs": [
    {
     "name": "stdout",
     "output_type": "stream",
     "text": [
      "clustering...\n",
      "computing similarities...\n",
      "# D_max = 0.096740\n",
      "# S_max = 0.217391\n"
     ]
    }
   ],
   "source": [
    "e2c, S, D, Dlist = linkcom.cluster(my_graph)"
   ]
  },
  {
   "cell_type": "markdown",
   "metadata": {},
   "source": [
    "If we print `e2c` we will see that each edge has a community membership:"
   ]
  },
  {
   "cell_type": "code",
   "execution_count": 5,
   "metadata": {
    "ExecuteTime": {
     "end_time": "2019-03-04T20:23:41.620900Z",
     "start_time": "2019-03-04T20:23:41.615884Z"
    }
   },
   "outputs": [
    {
     "name": "stdout",
     "output_type": "stream",
     "text": [
      "{(0, 86): 485, (14, 74): 450, (5, 57): 2, (48, 86): 480, (6, 54): 288, (18, 45): 113, (55, 80): 6, (19, 91): 282, (42, 88): 8, (48, 59): 9, (6, 98): 10, (17, 90): 282, (21, 81): 12, (13, 20): 13, (56, 75): 14, (33, 95): 15, (10, 75): 16, (8, 87): 17, (80, 94): 18, (35, 65): 19, (32, 77): 252, (94, 98): 235, (27, 39): 22, (82, 92): 46, (95, 98): 24, (37, 91): 25, (7, 22): 26, (39, 85): 27, (30, 58): 28, (73, 91): 282, (7, 44): 30, (63, 83): 31, (37, 44): 32, (35, 52): 33, (18, 36): 34, (3, 95): 35, (39, 42): 282, (19, 70): 52, (14, 50): 38, (18, 81): 39, (15, 43): 40, (9, 70): 41, (57, 60): 42, (8, 45): 113, (15, 88): 44, (11, 72): 282, (27, 82): 46, (30, 61): 47, (50, 70): 52, (35, 61): 49, (16, 51): 50, (38, 90): 51, (31, 70): 52, (37, 63): 53, (24, 28): 288, (14, 19): 55, (28, 98): 56, (50, 51): 57, (42, 84): 58, (47, 73): 511, (18, 72): 62, (66, 78): 61, (4, 11): 62, (26, 56): 197, (0, 59): 64, (71, 90): 134, (59, 85): 66, (23, 75): 67, (73, 99): 131, (19, 27): 69, (28, 54): 288, (35, 85): 71, (14, 65): 119, (11, 65): 62, (4, 69): 74, (51, 71): 50, (50, 91): 282, (29, 75): 250, (30, 89): 78, (39, 54): 288, (64, 67): 80, (7, 73): 81, (41, 71): 82, (91, 93): 282, (8, 76): 84, (56, 70): 102, (19, 58): 86, (11, 96): 87, (3, 31): 88, (20, 61): 89, (19, 32): 90, (22, 63): 26, (5, 29): 250, (29, 48): 282, (14, 72): 62, (9, 90): 95, (20, 27): 523, (61, 80): 97, (36, 70): 106, (2, 82): 99, (29, 42): 282, (6, 52): 101, (1, 70): 102, (7, 49): 103, (41, 63): 104, (43, 49): 105, (17, 70): 106, (55, 72): 107, (44, 80): 108, (50, 63): 109, (83, 87): 110, (25, 55): 111, (9, 67): 112, (4, 45): 113, (34, 77): 252, (29, 35): 288, (3, 48): 116, (12, 93): 480, (38, 79): 118, (8, 14): 119, (37, 42): 120, (29, 93): 282, (26, 65): 122, (35, 54): 424, (3, 65): 119, (2, 97): 125, (17, 63): 126, (35, 98): 10, (41, 91): 128, (44, 79): 129, (43, 93): 316, (35, 72): 131, (57, 66): 132, (22, 35): 133, (51, 90): 134, (75, 84): 135, (40, 50): 477, (72, 82): 137, (28, 70): 138, (20, 91): 477, (25, 31): 140, (30, 84): 141, (19, 81): 142, (41, 92): 143, (8, 71): 144, (37, 97): 53, (43, 82): 146, (60, 95): 147, (0, 83): 148, (32, 51): 252, (39, 69): 150, (28, 46): 151, (37, 85): 152, (23, 25): 153, (36, 39): 282, (31, 73): 282, (20, 98): 235, (55, 87): 157, (53, 67): 158, (15, 29): 159, (29, 99): 288, (7, 75): 338, (42, 93): 282, (18, 65): 163, (22, 66): 164, (65, 99): 19, (2, 28): 288, (85, 96): 526, (11, 98): 168, (62, 98): 56, (68, 81): 170, (10, 76): 185, (2, 54): 288, (14, 78): 297, (20, 37): 174, (52, 90): 175, (29, 40): 176, (38, 74): 177, (30, 55): 178, (4, 78): 297, (1, 68): 423, (73, 86): 181, (88, 90): 182, (41, 61): 183, (11, 52): 184, (6, 76): 185, (38, 44): 186, (43, 51): 187, (15, 26): 188, (17, 68): 189, (31, 92): 478, (19, 95): 191, (48, 63): 276, (55, 74): 193, (56, 79): 194, (0, 11): 195, (7, 94): 375, (24, 56): 197, (41, 80): 198, (15, 46): 269, (45, 74): 200, (71, 96): 217, (28, 60): 202, (7, 18): 203, (27, 81): 204, (23, 47): 357, (15, 69): 206, (50, 75): 207, (26, 79): 208, (18, 32): 203, (90, 91): 282, (30, 73): 211, (20, 94): 423, (9, 23): 213, (48, 54): 288, (20, 68): 423, (46, 86): 216, (68, 71): 217, (84, 98): 218, (14, 88): 219, (3, 21): 119, (9, 74): 221, (27, 48): 296, (71, 89): 50, (37, 64): 224, (87, 90): 432, (12, 86): 226, (38, 68): 227, (40, 46): 230, (7, 63): 26, (13, 40): 230, (42, 54): 288, (5, 66): 2, (55, 88): 233, (4, 96): 297, (1, 98): 235, (47, 85): 236, (1, 4): 297, (66, 74): 164, (56, 67): 271, (36, 91): 282, (52, 93): 175, (0, 75): 242, (63, 77): 243, (61, 77): 252, (40, 59): 245, (72, 91): 282, (50, 87): 282, (11, 49): 465, (42, 49): 249, (5, 75): 250, (19, 62): 439, (51, 61): 252, (32, 76): 253, (12, 68): 423, (32, 34): 252, (13, 64): 256, (4, 72): 62, (6, 66): 449, (4, 86): 259, (22, 97): 26, (37, 55): 261, (76, 86): 262, (54, 98): 10, (66, 92): 461, (43, 66): 265, (14, 45): 113, (47, 65): 267, (55, 98): 268, (15, 40): 269, (32, 67): 270, (53, 56): 271, (6, 9): 272, (45, 98): 273, (28, 62): 288, (11, 73): 282, (29, 63): 276, (27, 83): 277, (25, 71): 278, (72, 73): 282, (73, 93): 282, (51, 89): 50, (50, 73): 282, (64, 85): 283, (6, 95): 288, (40, 85): 285, (46, 84): 286, (19, 50): 282, (2, 6): 288, (32, 90): 289, (71, 91): 290, (38, 96): 227, (81, 91): 292, (10, 41): 293, (11, 36): 282, (26, 84): 295, (29, 82): 296, (4, 68): 297, (1, 78): 423, (50, 90): 282, (74, 84): 300, (14, 21): 119, (55, 90): 157, (17, 78): 189, (56, 95): 304, (7, 78): 375, (41, 64): 306, (47, 87): 357, (32, 81): 308, (33, 69): 309, (58, 71): 310, (80, 88): 311, (63, 97): 26, (81, 92): 204, (31, 47): 511, (11, 93): 282, (29, 43): 316, (72, 93): 282, (39, 95): 288, (73, 81): 142, (10, 58): 320, (51, 77): 252, (13, 95): 322, (12, 52): 323, (13, 57): 324, (44, 57): 325, (7, 71): 326, (76, 89): 327, (55, 73): 107, (16, 85): 329, (49, 57): 330, (56, 76): 392, (2, 24): 288, (46, 72): 333, (45, 77): 334, (80, 95): 335, (52, 56): 336, (26, 55): 417, (5, 7): 338, (3, 43): 339, (9, 92): 365, (62, 72): 465, (75, 96): 342, (29, 36): 282, (12, 92): 344, (27, 92): 46, (36, 42): 282, (10, 37): 347, (34, 38): 348, (31, 50): 282, (78, 94): 423, (54, 78): 351, (19, 99): 131, (11, 14): 62, (55, 70): 354, (54, 96): 355, (33, 87): 356, (23, 87): 357, (80, 86): 358, (35, 73): 131, (28, 56): 197, (2, 39): 288, (8, 46): 362, (4, 49): 363, (48, 91): 282, (9, 49): 365, (75, 85): 366, (3, 71): 367, (53, 81): 368, (10, 54): 424, (43, 44): 370, (5, 69): 371, (66, 85): 372, (26, 31): 373, (46, 90): 374, (1, 7): 375, (16, 89): 50, (66, 79): 377, (22, 74): 26, (2, 4): 379, (43, 83): 380, (85, 88): 381, (70, 73): 52, (23, 74): 383, (4, 18): 384, (34, 94): 375, (4, 56): 297, (7, 29): 338, (48, 82): 296, (27, 64): 389, (38, 82): 390, (3, 76): 391, (1, 76): 392, (17, 42): 282, (3, 82): 394, (13, 62): 395, (14, 61): 459, (32, 83): 397, (33, 91): 398, (3, 30): 399, (58, 69): 400, (19, 35): 131, (5, 28): 402, (81, 82): 204, (73, 77): 404, (15, 87): 451, (7, 26): 406, (32, 47): 407, (24, 69): 408, (39, 89): 409, (35, 48): 288, (18, 40): 493, (31, 93): 282, (44, 59): 413, (3, 97): 414, (44, 81): 415, (50, 60): 416, (24, 55): 417, (8, 90): 17, (58, 76): 419, (27, 56): 523, (75, 98): 421, (12, 94): 423, (1, 94): 423, (10, 35): 424, (17, 36): 282, (50, 74): 426, (54, 76): 185, (15, 96): 428, (31, 90): 282, (5, 90): 282, (16, 78): 431, (41, 90): 432, (24, 62): 288, (3, 12): 434, (1, 12): 423, (8, 65): 119, (15, 52): 437, (21, 65): 119, (19, 49): 439, (24, 36): 440, (61, 97): 441, (59, 81): 442, (25, 33): 443, (21, 43): 339, (22, 32): 26, (9, 45): 446, (2, 95): 288, (48, 93): 282, (6, 57): 449, (14, 22): 450, (15, 23): 451, (79, 99): 452, (14, 56): 297, (32, 94): 375, (57, 74): 164, (14, 68): 297, (33, 49): 457, (16, 23): 458, (8, 61): 459, (48, 84): 58, (27, 66): 461, (24, 64): 462, (23, 24): 463, (72, 90): 282, (11, 62): 465, (42, 48): 282, (38, 42): 467, (17, 66): 468, (7, 74): 26, (15, 58): 470, (19, 37): 471, (10, 87): 293, (82, 94): 473, (28, 38): 474, (61, 71): 252, (76, 97): 476, (13, 91): 477, (31, 49): 478, (74, 91): 426, (12, 48): 480, (64, 93): 481, (42, 69): 150, (55, 69): 483, (17, 93): 282, (0, 12): 485, (41, 87): 432, (15, 41): 451, (21, 70): 488, (22, 53): 489, (25, 94): 490, (6, 8): 491, (57, 62): 330, (4, 40): 493, (48, 66): 494, (29, 32): 338, (25, 64): 496, (51, 86): 497, (31, 62): 478, (29, 90): 282, (53, 84): 500, (4, 92): 363, (49, 92): 502, (13, 46): 230, (24, 26): 504, (48, 55): 505, (55, 66): 506, (25, 27): 507, (58, 85): 508, (21, 79): 509, (29, 31): 282, (23, 73): 511, (34, 61): 252, (7, 32): 26, (79, 89): 514, (42, 45): 515, (50, 93): 282, (74, 87): 383, (40, 91): 477, (16, 71): 50, (56, 94): 423, (20, 76): 392, (42, 81): 522, (1, 27): 523, (13, 27): 523, (71, 81): 525, (68, 85): 526}\n"
     ]
    }
   ],
   "source": [
    "print(e2c)"
   ]
  },
  {
   "cell_type": "markdown",
   "metadata": {},
   "source": [
    "Since this is a random graph, we expect there not to be any meaningful communities, and indeed they are all labelled `56` (the community ID), so there doesn't appear to be any link communities in the graph.\n",
    "\n",
    "We can now readily take our results and put them back into our graph so that it can be saved and viewed in Gephi. We can do this using the [`set_edge_attributes`](https://networkx.github.io/documentation/stable/reference/generated/networkx.classes.function.set_edge_attributes.html?highlight=set_edge_attributes#networkx.classes.function.set_edge_attributes) function in networkx. It works just like the `set_node_attributes` function from previuos assignments, but with edges instead:"
   ]
  },
  {
   "cell_type": "code",
   "execution_count": 6,
   "metadata": {
    "ExecuteTime": {
     "end_time": "2019-03-04T20:23:41.663047Z",
     "start_time": "2019-03-04T20:23:41.622905Z"
    }
   },
   "outputs": [],
   "source": [
    "# Put the link communities into the graph\n",
    "# Note this function's syntax depends on the networkx version.\n",
    "# If you use networkx 1.9 and below this line should be\n",
    "# nx.set_edge_attributes(my_graph, \"linkcom\", e2c)\n",
    "nx.set_edge_attributes(my_graph, e2c, \"linkcom\")\n",
    "\n",
    "# Save the graph to file\n",
    "nx.write_gexf(my_graph, \"my_graph.gexf\")"
   ]
  },
  {
   "cell_type": "markdown",
   "metadata": {},
   "source": [
    "Now if we were to open the graph in Gephi we should be able to use the link communities to color the graph edges. In Gephi you may need to click the little attribute type button so that edge attributes are set to [ranked rather than numeric](https://gephi.org/tutorials/gephi-tutorial-quick_start.pdf). This is because we want to color the edges according to their membership and not with a gradient. Additionally, in order to keep the edge colors when saving the graph you will need to make sure the edge color in the Preview tab is set to `original`. Lastly, since you will be looking at link communities (which determine the node membership in link clustering) it will be helpful to increase the size of the edges in Gephi so the colors are more visible and so you can detect nodes that belong to multiple communities.\n",
    "\n",
    "## The task\n",
    "You can choose one from these two datasets:\n",
    "\n",
    "One is the NetSci collaboration graph. The nodes of the graph are people and links are formed between people who co-author a scientific paper together in network science. You can download it from [here](http://vlado.fmf.uni-lj.si/pub/networks/data/collab/netscience.htm). Hint: load with `read_pajek`.\n",
    "\n",
    "The graph has ~1500 nodes and is partly disconnected. If you have difficulty working with the full graph or trouble loading it into Gephi, you can use the largest connected component (which only has about 350 nodes). The largest connected component of a graph can be returned from networkx using:\n",
    "\n",
    "```\n",
    "largest_component=max(nx.connected_component_subgraphs(my_graph), key=len)\n",
    "```\n",
    "\n",
    "Most of the interesting stuff is happening around this component anyway. So you don't lose much except for the scientists and groups that decided to work alone.\n",
    "\n",
    "Another option is the word association graph. Download: [here](https://www.dropbox.com/s/oky3cwwtwy1dfs0/word.edgelist?dl=0)\n",
    "\n",
    "Follow these steps for the assignment:\n",
    "\n",
    "Gephi users:\n",
    "1. Load the graph and run the link communities clustering algorithm on it.\n",
    "2. Save the link communities to the graph and save the graph to file.\n",
    "3. In Gephi choose a good layout for the graph.\n",
    "4. Run the modularity command to generate communities for the nodes.\n",
    "5. Color the edges according to the link communities and the nodes according to the communities found by Gephi. Remember to take care in choosing the resolution parameter.\n",
    "6. How well does link clustering do at detecting community structure? How well does Gephi's node modularity do at detecting community structure? What do you think the communities represent?\n",
    "7. What are the similarities and differences between the communities detected by either algorithm?\n",
    "8. Which authors have a prominent position in multiple communities? What do you think these author's roles are?\n",
    "9. What other features do you notice about the graph that are captured with overlaping communities?\n",
    "10. Save your visualization to file.\n",
    "11. Once complete, submit a PDF document to Canvas that contains your responses and your graph visualization (since this is a larger graph feel free to crop the figure so that it only includes parts relevant to your responses).\n",
    "\n",
    "Cytoscape users:\n",
    "1. Instead of the code above, you may want to write the edges and their attributes into a `.csv` (comma seperated values) file. In Cytoscape, use \"File\" -> \"Import\" -> \"Table from file\".\n",
    "2. Follow the instructions above. You can use some community detection plugins of your choice. It is ok if some details are different."
   ]
  },
  {
   "cell_type": "code",
   "execution_count": 7,
   "metadata": {
    "ExecuteTime": {
     "end_time": "2019-03-04T20:23:41.779358Z",
     "start_time": "2019-03-04T20:23:41.665014Z"
    }
   },
   "outputs": [],
   "source": [
    "# loading net science file\n",
    "netsci = nx.read_pajek('netsience.net')"
   ]
  },
  {
   "cell_type": "code",
   "execution_count": 8,
   "metadata": {
    "ExecuteTime": {
     "end_time": "2019-03-04T20:23:41.787340Z",
     "start_time": "2019-03-04T20:23:41.781349Z"
    }
   },
   "outputs": [
    {
     "name": "stdout",
     "output_type": "stream",
     "text": [
      "Name: \n",
      "Type: MultiGraph\n",
      "Number of nodes: 1589\n",
      "Number of edges: 2742\n",
      "Average degree:   3.4512\n"
     ]
    }
   ],
   "source": [
    "print(nx.info(netsci))"
   ]
  },
  {
   "cell_type": "code",
   "execution_count": 9,
   "metadata": {
    "ExecuteTime": {
     "end_time": "2019-03-04T20:23:41.863543Z",
     "start_time": "2019-03-04T20:23:41.789346Z"
    }
   },
   "outputs": [],
   "source": [
    "largest_component=max(nx.connected_component_subgraphs(netsci), key=len)"
   ]
  },
  {
   "cell_type": "code",
   "execution_count": 10,
   "metadata": {
    "ExecuteTime": {
     "end_time": "2019-03-04T20:23:51.410325Z",
     "start_time": "2019-03-04T20:23:51.401326Z"
    }
   },
   "outputs": [],
   "source": [
    "# Its multigraph. so converting it.\n",
    "netsci_graph = nx.Graph(largest_component)"
   ]
  },
  {
   "cell_type": "code",
   "execution_count": 11,
   "metadata": {
    "ExecuteTime": {
     "end_time": "2019-03-04T20:23:55.867567Z",
     "start_time": "2019-03-04T20:23:55.862553Z"
    }
   },
   "outputs": [
    {
     "name": "stdout",
     "output_type": "stream",
     "text": [
      "Name: \n",
      "Type: Graph\n",
      "Number of nodes: 379\n",
      "Number of edges: 914\n",
      "Average degree:   4.8232\n"
     ]
    }
   ],
   "source": [
    "print(nx.info(netsci_graph))"
   ]
  },
  {
   "cell_type": "code",
   "execution_count": 12,
   "metadata": {
    "ExecuteTime": {
     "end_time": "2019-03-04T20:24:09.023312Z",
     "start_time": "2019-03-04T20:24:08.948114Z"
    }
   },
   "outputs": [
    {
     "name": "stdout",
     "output_type": "stream",
     "text": [
      "clustering...\n",
      "computing similarities...\n",
      "# D_max = 0.463159\n",
      "# S_max = 0.416667\n"
     ]
    }
   ],
   "source": [
    "e2c, S, D, Dlist = linkcom.cluster(netsci_graph)\n",
    "nx.set_edge_attributes(netsci_graph, e2c, \"linkcom\")\n",
    "nx.write_gexf(netsci_graph, \"netsci_graph_largestcomp.gexf\")"
   ]
  },
  {
   "cell_type": "code",
   "execution_count": null,
   "metadata": {},
   "outputs": [],
   "source": []
  }
 ],
 "metadata": {
  "anaconda-cloud": {},
  "kernelspec": {
   "display_name": "Python 3",
   "language": "python",
   "name": "python3"
  },
  "language_info": {
   "codemirror_mode": {
    "name": "ipython",
    "version": 3
   },
   "file_extension": ".py",
   "mimetype": "text/x-python",
   "name": "python",
   "nbconvert_exporter": "python",
   "pygments_lexer": "ipython3",
   "version": "3.6.5"
  },
  "latex_envs": {
   "LaTeX_envs_menu_present": true,
   "autoclose": true,
   "autocomplete": true,
   "bibliofile": "biblio.bib",
   "cite_by": "apalike",
   "current_citInitial": 1,
   "eqLabelWithNumbers": true,
   "eqNumInitial": 1,
   "hotkeys": {
    "equation": "Ctrl-E",
    "itemize": "Ctrl-I"
   },
   "labels_anchors": false,
   "latex_user_defs": false,
   "report_style_numbering": false,
   "user_envs_cfg": true
  },
  "toc": {
   "base_numbering": 1,
   "nav_menu": {},
   "number_sections": true,
   "sideBar": true,
   "skip_h1_title": false,
   "title_cell": "Table of Contents",
   "title_sidebar": "Contents",
   "toc_cell": false,
   "toc_position": {},
   "toc_section_display": true,
   "toc_window_display": false
  },
  "varInspector": {
   "cols": {
    "lenName": 16,
    "lenType": 16,
    "lenVar": 40
   },
   "kernels_config": {
    "python": {
     "delete_cmd_postfix": "",
     "delete_cmd_prefix": "del ",
     "library": "var_list.py",
     "varRefreshCmd": "print(var_dic_list())"
    },
    "r": {
     "delete_cmd_postfix": ") ",
     "delete_cmd_prefix": "rm(",
     "library": "var_list.r",
     "varRefreshCmd": "cat(var_dic_list()) "
    }
   },
   "types_to_exclude": [
    "module",
    "function",
    "builtin_function_or_method",
    "instance",
    "_Feature"
   ],
   "window_display": false
  }
 },
 "nbformat": 4,
 "nbformat_minor": 1
}
